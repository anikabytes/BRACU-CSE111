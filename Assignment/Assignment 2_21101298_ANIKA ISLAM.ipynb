{
 "cells": [
  {
   "cell_type": "markdown",
   "metadata": {
    "colab": {
     "base_uri": "https://localhost:8080/"
    },
    "id": "e2JvXM5BFayG",
    "outputId": "fae71707-91da-44ae-fead-59dde6f38b60"
   },
   "source": [
    "# ASSIGNMENT 2 \n",
    "NAME : ANIKA ISLAM \n",
    "\n",
    "ID : 21101298 \n",
    "\n",
    "SECTION : 15 "
   ]
  },
  {
   "cell_type": "markdown",
   "metadata": {
    "id": "kFaesQ9sFqzg"
   },
   "source": [
    "1. Write a function which will return the fraction part after dividing a number by  another. The range should be within 0 and 1. Exception: Since dividing anything by  0 results in error so if the denominator is 0, the function will return 0 instead of  attempting the division. \n",
    "\n",
    "\n",
    "Sample Input\n",
    "\n",
    "(5, 2) \n",
    "\n",
    "(5, 0)\n",
    "\n",
    "(0, 5)\n",
    "\n",
    "Sample Output\n",
    "\n",
    "0.5 \n",
    "\n",
    "0 \n",
    "\n",
    "0 \n"
   ]
  },
  {
   "cell_type": "code",
   "execution_count": 19,
   "metadata": {
    "colab": {
     "base_uri": "https://localhost:8080/"
    },
    "id": "LrQGm2xLFrjU",
    "outputId": "a4dc5143-57d1-4918-c5df-ef89607f3cd5"
   },
   "outputs": [
    {
     "name": "stdout",
     "output_type": "stream",
     "text": [
      "enter 1st number:5\n",
      "enter 2nd number:2\n",
      "0.5\n"
     ]
    }
   ],
   "source": [
    "# task 1 \n",
    "def fraction (num1,num2) :\n",
    "    if num2 == 0 :\n",
    "        return 0 \n",
    "    else :\n",
    "        div = num1 / num2\n",
    "        frac = div % num2\n",
    "    if 0 < frac <= 1 :\n",
    "        return frac \n",
    "    else :\n",
    "        return 0 \n",
    "\n",
    "input1 = int(input('enter 1st number:'))\n",
    "input2 = int(input('enter 2nd number:'))\n",
    "print(fraction(input1,input2))"
   ]
  },
  {
   "cell_type": "markdown",
   "metadata": {
    "id": "Czbn8wV0Km8k"
   },
   "source": [
    "2. You are one of the gym instructors at AmiKenoMota. You decide to provide a  customized diet and exercise plans based on the BMI of an individual. You measure  the weight in kilograms and height in meters and calculate the BMI before a plan  can be decided. Write a BMI function that takes in two values, weight in kg and  height in cm and print the score along with the condition. (Make sure to convert cm  into m before calculation) \n",
    "BMI(height, weight) \n",
    "BMI = kg/m^2\n",
    "\n",
    "Based on the BMI score return the following output.\n",
    "\n",
    "● < 18.5- Underweight \n",
    "\n",
    "● 18.5 - 24.9 - Normal \n",
    "\n",
    "● 25 -30 - Overweight \n",
    "\n",
    "● > 30 – Obese \n",
    "\n",
    "Sample Input\n",
    "\n",
    " (175, 96) \n",
    "\n",
    "(152, 48) \n",
    "\n",
    "Sample Output \n",
    "\n",
    "Score is 31.3. You are Obese\n",
    "\n",
    "  Score is 20.8. You are Normal \n",
    "\n",
    "\n",
    "\n"
   ]
  },
  {
   "cell_type": "code",
   "execution_count": 6,
   "metadata": {
    "colab": {
     "base_uri": "https://localhost:8080/"
    },
    "id": "QzhAuAI_F861",
    "outputId": "1fc727a0-3056-486d-fbaa-c0dbb1d4131a"
   },
   "outputs": [
    {
     "name": "stdout",
     "output_type": "stream",
     "text": [
      "enter  height : 175\n",
      "enter weight : 96\n",
      "Score is 31.3. You are obese\n"
     ]
    }
   ],
   "source": [
    "# task 2 \n",
    "def BMI_calculation(height,weight) :\n",
    "    BMI = weight / (height/100)**2 \n",
    "    var = format(BMI,'.1f')\n",
    "    if BMI < 18.5 :\n",
    "        return 'Score is ' + str(var) + '. You are Underweight' \n",
    "    elif 18.5 <= BMI <= 24.9 :\n",
    "        return 'Score is ' + str(var) + '. You are Normal'\n",
    "    elif 25 <= BMI <= 30 :\n",
    "        return 'Score is ' + str(var) + '. You are Overweight'\n",
    "    elif BMI > 30 :\n",
    "        return 'Score is ' + str(var) + '. You are obese' \n",
    "    \n",
    "height_input = int(input('enter  height : '))\n",
    "weight_input = int(input('enter weight : '))\n",
    "print(BMI_calculation(height_input,weight_input))"
   ]
  },
  {
   "cell_type": "markdown",
   "metadata": {
    "id": "O49g9haVOmd9"
   },
   "source": [
    "3. Write a function which will take 3 arguments minimum, maximum and divisor.  You have to find all the numbers that are divisible by the divisor where minimum  value is inclusive and maximum value is exclusive. Add all the numbers and return  the value. \n",
    "\n",
    "Sample Input\n",
    "\n",
    " (0, 10, 2) \n",
    "\n",
    "(3, 16, 3)\n",
    "\n",
    "Sample Output \n",
    "\n",
    "20 \n",
    "\n",
    "45 \n",
    "\n"
   ]
  },
  {
   "cell_type": "code",
   "execution_count": 17,
   "metadata": {
    "colab": {
     "base_uri": "https://localhost:8080/"
    },
    "id": "v69drxZ5LIEV",
    "outputId": "4d3e7ae2-abe5-46fc-fdeb-8471ba8153d4"
   },
   "outputs": [
    {
     "name": "stdout",
     "output_type": "stream",
     "text": [
      "enter the minimum value : 0\n",
      "enter the maximum value : 10\n",
      "enter the divisor : 2\n",
      "20\n"
     ]
    }
   ],
   "source": [
    "# task 3 \n",
    "def divisible (minim,maxim,divisor) :\n",
    "    summ = 0\n",
    "    for num in range (minim,maxim) :\n",
    "        if num %divisor == 0 :\n",
    "            summ += num\n",
    "    return summ\n",
    "\n",
    "minim_input = int(input('enter the minimum value : '))\n",
    "maxim_input = int(input('enter the maximum value : '))\n",
    "divisor_input = int(input('enter the divisor : '))\n",
    "print(divisible (minim_input,maxim_input,divisor_input))"
   ]
  },
  {
   "cell_type": "markdown",
   "metadata": {
    "id": "zuzHAhRXPvI8"
   },
   "source": [
    "4. You want to order Burger from Chillox through the FoodPanda App. You have to  calculate the total price. Write a function which will take the name of the burger and  place(Mohakhali/Outside of Mohakhali) as input. Use default argument technique  for taking place input. \n",
    " \n",
    "Menu |  Price(Tk)\n",
    "\n",
    "BBQ Chicken Cheese Burger | 250\n",
    "\n",
    "Beef Burger | 170\n",
    "\n",
    "Naga Drums | 200\n",
    "\n",
    "Hint: Total Price = meal_cost + delivery_charge + tax  \n",
    "\n",
    "Note that: \n",
    "\n",
    "● If your home is in Mohakhali area then your delivery charge is 40 taka  else 60 taka \n",
    "\n",
    "● Your tax rate is 8% of your meal. \n",
    "\n",
    "\n",
    "Sample Input \n",
    "\n",
    "(‘Beef Burger’, ‘Dhanmondi’) \n",
    "\n",
    " (‘Beef Burger’) \n",
    "\n",
    "Sample Output \n",
    "\n",
    "243.6 \n",
    "\n",
    "223.6 \n",
    "\n",
    "\n"
   ]
  },
  {
   "cell_type": "code",
   "execution_count": 2,
   "metadata": {
    "colab": {
     "base_uri": "https://localhost:8080/"
    },
    "id": "LPj6FCsWRnKh",
    "outputId": "41c7f914-82e1-4852-c386-cb5f14a66fb4"
   },
   "outputs": [
    {
     "name": "stdout",
     "output_type": "stream",
     "text": [
      "enter meal : Beef Burger\n",
      "enter location : \n",
      "223.6\n"
     ]
    }
   ],
   "source": [
    "# task 4 \n",
    "# total = meal_cost + delivery_charge + tax\n",
    "def FoodPanda(meal,location = 'Mohakhali') :\n",
    "    meal_price = {'BBQ Chicken Cheese Burger' : 250 , \n",
    "                'Beef Burger' : 170 , \n",
    "                'Naga Drums' : 200}\n",
    "    total = 0\n",
    "    total_meal = 0 \n",
    "    for key,value in meal_price.items() :\n",
    "        if meal in key :\n",
    "            mean_cost = value \n",
    "            tax = (8/100) * value\n",
    "            total_meal = mean_cost + tax\n",
    "  # if location == '' :\n",
    "    if location == '' :\n",
    "        total = total_meal + 40\n",
    "    else :\n",
    "        total = total_meal + 60\n",
    "    print (total)\n",
    "    \n",
    "meal_input = input('enter meal : ')\n",
    "location_input = input('enter location : ')\n",
    "FoodPanda(meal_input,location_input)\n"
   ]
  },
  {
   "cell_type": "markdown",
   "metadata": {
    "id": "7awc3WyYas-u"
   },
   "source": [
    "5. A company named Sheba.xyz has recently moved from their old domain to a new  domain. However, a lot of the company email addresses are still using the old one.  Write a function in python that replaces this old domain with the new one in any  outdated email addresses. Keep same if the email address contains the new domain. \n",
    "\n",
    " (Do not use builtin replace function) \n",
    "Firstly, define a “replace_domain” function which accepts three parameters \n",
    "*The email address to be checked \n",
    "\n",
    "*The new domain \n",
    "\n",
    "* The old domain (Use Default argument technique to handle this)\n",
    "\n",
    "Sample Input \n",
    "\n",
    "(‘alice@kaaj.com’, ‘sheba.xyz’, ‘kaaj.com’)  \n",
    "(‘bob@sheba.xyz’, ‘sheba.xyz’) \n",
    "\n",
    "Sample Output  \n",
    "\n",
    "Changed: alice@sheba.xyz \n",
    "\n",
    "Unchanged: bob@sheba.xyz \n"
   ]
  },
  {
   "cell_type": "code",
   "execution_count": 14,
   "metadata": {
    "colab": {
     "base_uri": "https://localhost:8080/"
    },
    "id": "Zp6giyBRauBV",
    "outputId": "c1fbb521-bf0b-4aee-9a57-6deec5e3b8f1"
   },
   "outputs": [
    {
     "name": "stdout",
     "output_type": "stream",
     "text": [
      "enter mail address : bob@sheba.xyz\n",
      "enter the new domain : sheba.xyz\n",
      "enter the old domain : \n",
      "Unchanged: bob@sheba.xyz\n"
     ]
    }
   ],
   "source": [
    "# task 5 \n",
    "def replace_domain (mail,new_domain,old_domain = ' ') :\n",
    "    mail_list = mail.split('@')\n",
    "    if mail_list[1] == old_domain :\n",
    "        mail_list[1] = new_domain\n",
    "        correct_mail =  mail_list[0] + '@' + mail_list[1]\n",
    "        print ('Changed:',correct_mail)\n",
    "    else :\n",
    "        print ('Unchanged:',mail)\n",
    "        \n",
    "mail_address = input('enter mail address : ')\n",
    "new_domain_input = input('enter the new domain : ')\n",
    "old_domain_input = input('enter the old domain : ')\n",
    "replace_domain (mail_address,new_domain_input,old_domain_input)"
   ]
  },
  {
   "cell_type": "markdown",
   "metadata": {
    "id": "61tERat8iDlw"
   },
   "source": [
    "6. Write a function which takes only your full name as input and finds the total  number of vowels in that input. Output every vowel and at the end output the total  number of vowelsfound. If your name does not contain any vowel then yourfunction  should print “No vowels in the name!”. \n",
    "\n",
    "\n",
    "Sample Input  \n",
    "(Steve Jobs)  \n",
    "\n",
    "(XYZ) \n",
    "\n",
    "Sample Output \n",
    "\n",
    "Vowels: e, e, o. Total number of vowels: 3  \n",
    "No vowels in the name \n",
    "\n"
   ]
  },
  {
   "cell_type": "code",
   "execution_count": 17,
   "metadata": {
    "colab": {
     "base_uri": "https://localhost:8080/"
    },
    "id": "dVRuwX7CiGXM",
    "outputId": "a5df0452-cffe-4190-d73c-cbf7a6fcd8e2"
   },
   "outputs": [
    {
     "name": "stdout",
     "output_type": "stream",
     "text": [
      "enter your full name : Steve Jobs\n",
      "Vowels: e,e,o Total number of vowels: 10\n"
     ]
    }
   ],
   "source": [
    "# task 6 \n",
    "def vowel_identifier (name) :\n",
    "    vowel = ''\n",
    "    total = 0 \n",
    "    vowel_count = 0 \n",
    "    for char in name :\n",
    "        if char in 'a,e,i,o,u,A,E,I,O,U' :\n",
    "            if vowel == '' :\n",
    "                vowel +=  char \n",
    "            else :\n",
    "                vowel += ',' + char \n",
    "        total += 1\n",
    "    if  total > 0 :\n",
    "        print ('Vowels:',vowel,'Total number of vowels:',total)\n",
    "    else :\n",
    "        print('No vowels in the name')\n",
    "        \n",
    "name_input = input('enter your full name : ')\n",
    "vowel_identifier (name_input)\n",
    "# vowel_identifier ('Steve Jobs')"
   ]
  },
  {
   "cell_type": "markdown",
   "metadata": {
    "id": "tIcDVLsI5HQK"
   },
   "source": [
    "7. Write a program which checks whether a given string is a palindrome or not. Note:  A palindrome is a word, phrase, or sequence that reads the same backward as  forward. For palindrome, any spaces in middle are not considered and should be  trimmed. \n",
    "\n",
    "\n",
    "Sample Input\n",
    "\n",
    " ‘madam’  \n",
    "\n",
    "‘hello’  \n",
    "\n",
    "‘nurses run’ \n",
    "\n",
    "Sample Output \n",
    "\n",
    "Palindrome \n",
    "\n",
    "Not a palindrome \n",
    "\n",
    " Palindrome \n"
   ]
  },
  {
   "cell_type": "code",
   "execution_count": 7,
   "metadata": {
    "colab": {
     "base_uri": "https://localhost:8080/"
    },
    "id": "NDOauOaz5Uay",
    "outputId": "adbb16d0-07bd-4c5c-d157-6be722310bdc"
   },
   "outputs": [
    {
     "name": "stdout",
     "output_type": "stream",
     "text": [
      "enter words : nurses run\n",
      "Palindrome\n"
     ]
    }
   ],
   "source": [
    "# task 7\n",
    "def palindrome_identifier (words) :\n",
    "    ans = []\n",
    "    ans1 = ''\n",
    "    ans2 = ''\n",
    "    updated_words=''\n",
    "    for char in words :\n",
    "        if char != ' ' :\n",
    "            updated_words += char \n",
    "    for char1 in range(0,len(updated_words)//2) :\n",
    "        ans1+= updated_words[char1]\n",
    "    for char2 in range((len(updated_words)//2)+1,len(updated_words)) :\n",
    "        ans2 += updated_words[char2]\n",
    "    if ans1[::-1] == ans2 :\n",
    "        print ('Palindrome')\n",
    "    else :\n",
    "        print ('Not a palindrome')\n",
    "        \n",
    "words_input= input('enter words : ')\n",
    "palindrome_identifier(words_input)\n",
    "\n"
   ]
  },
  {
   "cell_type": "markdown",
   "metadata": {
    "id": "yV-5ExYF-XAE"
   },
   "source": [
    "8. Write a function which takes a number of days as input and prints total number of  years, number of months and remaining number of days as output.\n",
    "\n",
    "Sample Input \n",
    "\n",
    "(4320) \n",
    "\n",
    "(4000) \n",
    "\n",
    "Sample Output \n",
    "\n",
    "11 years, 10 months and 5 days \n",
    "\n",
    "10 years, 11 months and 20 days \n"
   ]
  },
  {
   "cell_type": "code",
   "execution_count": 8,
   "metadata": {
    "colab": {
     "base_uri": "https://localhost:8080/"
    },
    "id": "JhNt0rbn-tjn",
    "outputId": "f9b1f9ab-c955-41d5-96dd-bc5ceb4f3fc3"
   },
   "outputs": [
    {
     "name": "stdout",
     "output_type": "stream",
     "text": [
      "enter the number of days : 4320\n",
      "11 years, 10 months and  5 days\n"
     ]
    }
   ],
   "source": [
    "# task 8 \n",
    "def date_calculation(days) :\n",
    "    years = days // 365\n",
    "    months_remaining = days % 365\n",
    "    months = months_remaining // 30\n",
    "    days_remaining = months_remaining % 30\n",
    "    print (years,'years,',months,'months and ',days_remaining,'days')\n",
    "    \n",
    "days_input = int(input('enter the number of days : '))\n",
    "date_calculation(days_input)"
   ]
  },
  {
   "cell_type": "markdown",
   "metadata": {
    "id": "-kZoGcGJIrxb"
   },
   "source": [
    "9. You are a class teacher at a kindergarten school. As a task, you asked your  students to write a paragraph. Unfortunately, you notice that most of the students  did not use capital letters correctly. Your task is to write a function which takes a string as its only parameter and returns a new copy of the string that has been  correctly capitalized. Your function should: \n",
    "\n",
    "● Capitalize the first letter in the string \n",
    "\n",
    "● Capitalize the first letter after a full-stop, exclamation mark or question mark \n",
    "\n",
    "● Capitalize the word “i” if it is in lowercase. \n",
    "\n",
    "Summary: You have to write a function that reads a string from the user and  capitalizes. The string is then returned and displayed.\n",
    "\n",
    "Sample Input \n",
    "\n",
    "('my favourite animal is a dog. a dog has sharp teeth so that it can eat flesh very easily.  do you know my pet dog’s name? i love my pet very much.') \n",
    "\n",
    "Sample Output \n",
    "\n",
    "My favourite animal is a dog. A dog has sharp teeth so that it can eat flesh very easily. Do  you know my pet dog’s name? I love my pet very much. \n"
   ]
  },
  {
   "cell_type": "code",
   "execution_count": 9,
   "metadata": {
    "colab": {
     "base_uri": "https://localhost:8080/"
    },
    "id": "G6c_FkCnI8Ww",
    "outputId": "dab8e19f-9412-4efc-d112-86cecd092ef2"
   },
   "outputs": [
    {
     "name": "stdout",
     "output_type": "stream",
     "text": [
      "enter the paragraph of the student : my favourite animal is a dog. a dog has sharp teeth so that it can eat flesh very easily. do you know my pet dog’s name? i love my pet very much.\n",
      "My favourite animal is a dog. A dog has sharp teeth so that it can eat flesh very easily. Do you know my pet dog’s name? I Love my pet very much.\n"
     ]
    }
   ],
   "source": [
    "def correction (para) :\n",
    "    ans1 = ''\n",
    "    ans2 = False \n",
    "    for char in range(0,len(para)-1) :\n",
    "        if char == 0 :\n",
    "            ans1 += chr(ord(para[char]) - 32)\n",
    "        elif para[char] in '.!?' :\n",
    "            ans1 += para[char]\n",
    "            ans2 = True \n",
    "        elif para[char] == 'i' and para[char + 1 ]  == para[char - 1] == ' ' :\n",
    "            ans1 += 'I' \n",
    "        elif ans2 == True and 97 <= ord(para[char]) <= 122 :\n",
    "            ans1 +=  chr(ord(para[char]) - 32)\n",
    "            ans2 = False\n",
    "        else :\n",
    "            ans1 += para[char]\n",
    "    ans1 += para[-1]\n",
    "    return ans1  \n",
    "         \n",
    "para_input = input('enter the paragraph of the student : ')\n",
    "print(correction(para_input))\n"
   ]
  }
 ],
 "metadata": {
  "colab": {
   "collapsed_sections": [],
   "name": "Assignment 2 _21101298_ANIKA ISLAM",
   "provenance": []
  },
  "kernelspec": {
   "display_name": "Python 3",
   "language": "python",
   "name": "python3"
  },
  "language_info": {
   "codemirror_mode": {
    "name": "ipython",
    "version": 3
   },
   "file_extension": ".py",
   "mimetype": "text/x-python",
   "name": "python",
   "nbconvert_exporter": "python",
   "pygments_lexer": "ipython3",
   "version": "3.8.8"
  }
 },
 "nbformat": 4,
 "nbformat_minor": 1
}
