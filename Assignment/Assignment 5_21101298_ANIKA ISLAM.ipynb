{
 "cells": [
  {
   "cell_type": "markdown",
   "metadata": {
    "id": "XxEYE_ay_74Y"
   },
   "source": [
    "\n",
    "ASSIGNMENT 5\n",
    "---\n",
    "NAME : ANIKA ISLAM \n",
    "\n",
    "ID : 21101298\n",
    "\n",
    "SECTION : 15\n"
   ]
  },
  {
   "cell_type": "code",
   "execution_count": 1,
   "metadata": {
    "colab": {
     "base_uri": "https://localhost:8080/"
    },
    "id": "3Vrklf5rYsr0",
    "outputId": "b858205c-7afb-4854-d85d-0d41384ffeaa"
   },
   "outputs": [
    {
     "name": "stdout",
     "output_type": "stream",
     "text": [
      "Quiz 1 (out of 10): 10\n",
      "Quiz 2 (out of 10): 8\n",
      "Lab (out of 30): 20\n",
      "Mid (out of 20): 20\n",
      "Final (out of 30): 29\n",
      "Total marks: 87\n"
     ]
    }
   ],
   "source": [
    "# task 1\n",
    "class Marks :\n",
    "    def __init__(self,mark) :\n",
    "        self.mark = mark \n",
    "    def __add__(self,other) :\n",
    "        ans = self.mark + other.mark\n",
    "        obj = Marks(ans)\n",
    "        return obj\n",
    "    \n",
    "    \n",
    "Q1 = Marks(int(input(\"Quiz 1 (out of 10): \")))\n",
    "Q2 = Marks(int(input(\"Quiz 2 (out of 10): \")))\n",
    "Lab = Marks(int(input(\"Lab (out of 30): \")))\n",
    "Mid = Marks(int(input(\"Mid (out of 20): \")))\n",
    "Final = Marks(int(input(\"Final (out of 30): \")))\n",
    "total = Q1 + Q2 + Lab + Mid + Final\n",
    "print(\"Total marks: {}\".format(total.mark))"
   ]
  },
  {
   "cell_type": "code",
   "execution_count": 2,
   "metadata": {
    "colab": {
     "base_uri": "https://localhost:8080/"
    },
    "id": "axTdiNZRO85H",
    "outputId": "edebb439-cb41-4bfc-8eff-a59abd034e8d"
   },
   "outputs": [
    {
     "name": "stdout",
     "output_type": "stream",
     "text": [
      "=========================================\n",
      "Name: Saad Abdullah\n",
      "Department: CSE\n",
      "List of courses\n",
      "=========================================\n",
      "CSE 110 Programming Language I\n",
      "CSE 111 Programming Language-II\n",
      "=========================================\n",
      "=========================================\n",
      "Name: Mumit Khan\n",
      "Department: CSE\n",
      "List of courses\n",
      "=========================================\n",
      "CSE 220 Data Structures\n",
      "CSE 221 Algorithms\n",
      "CCSE 230 Discrete Mathematics\n",
      "=========================================\n",
      "=========================================\n",
      "Name: Sadia Kazi\n",
      "Department: CSE\n",
      "List of courses\n",
      "=========================================\n",
      "CSE 310 Object Oriented Programming\n",
      "CSE 320 Data Communications\n",
      "CSE 340 Computer Architecture\n",
      "=========================================\n"
     ]
    }
   ],
   "source": [
    "# task 2 \n",
    "class Teacher :\n",
    "    def __init__(self,name,department='CSE') :\n",
    "        self.__name = name \n",
    "        self.__department = department \n",
    "        self.__course_list = []\n",
    "    def addCourse(self,more_course) :\n",
    "        self.more_course = more_course.course_title \n",
    "        if self.more_course not in self.__course_list :\n",
    "            self.__course_list.append(self.more_course)\n",
    "    def printDetail(self) :\n",
    "        print('=========================================')\n",
    "        print('Name:',self.__name)\n",
    "        print('Department:',self.__department)\n",
    "        print('List of courses')\n",
    "        print('=========================================')\n",
    "        for i in self.__course_list :\n",
    "            print(i)\n",
    "        print('=========================================')\n",
    "class Course :\n",
    "    def __init__(self,course_title) :\n",
    "        self.course_title = course_title \n",
    "\n",
    "\n",
    "t1 = Teacher(\"Saad Abdullah\", \"CSE\")\n",
    "t2 = Teacher(\"Mumit Khan\", \"CSE\")\n",
    "t3 = Teacher(\"Sadia Kazi\", \"CSE\")\n",
    "c1 = Course(\"CSE 110 Programming Language I\")\n",
    "c2 = Course(\"CSE 111 Programming Language-II\")\n",
    "c3 = Course(\"CSE 220 Data Structures\")\n",
    "c4 = Course(\"CSE 221 Algorithms\")\n",
    "c5 = Course(\"CCSE 230 Discrete Mathematics\")\n",
    "c6 = Course(\"CSE 310 Object Oriented Programming\")\n",
    "c7 = Course(\"CSE 320 Data Communications\")\n",
    "c8 = Course(\"CSE 340 Computer Architecture\")\n",
    "t1.addCourse(c1)\n",
    "t1.addCourse(c2)\n",
    "t2.addCourse(c3)\n",
    "t2.addCourse(c4)\n",
    "t2.addCourse(c5)\n",
    "t3.addCourse(c6)\n",
    "t3.addCourse(c7)\n",
    "t3.addCourse(c8)\n",
    "t1.printDetail()\n",
    "t2.printDetail()\n",
    "t3.printDetail()"
   ]
  },
  {
   "cell_type": "code",
   "execution_count": 3,
   "metadata": {
    "colab": {
     "base_uri": "https://localhost:8080/"
    },
    "id": "7MGyQk08VIF6",
    "outputId": "c2397ec1-db0b-4d94-9001-cf90126d5dc2"
   },
   "outputs": [
    {
     "name": "stdout",
     "output_type": "stream",
     "text": [
      "=========================================\n",
      "Team: Bangladesh\n",
      "List of Players:\n",
      "['Mashrafi', 'Tamim']\n",
      "=========================================\n",
      "=========================================\n",
      "Team: Australia\n",
      "List of Players:\n",
      "['Ponting', 'Lee']\n",
      "=========================================\n"
     ]
    }
   ],
   "source": [
    "# task 3\n",
    "class Team :\n",
    "    def __init__(self,name='') :\n",
    "        self.__name = name\n",
    "        self.__player_list = []\n",
    "    def setName(self,new_name) :\n",
    "        self.__name = new_name \n",
    "    def addPlayer(self,new_player) :\n",
    "        self.new_player = new_player.player_name \n",
    "        if self.new_player not in self.__player_list :\n",
    "            self.__player_list.append(self.new_player)\n",
    "    def printDetail(self) :\n",
    "        print('=========================================')\n",
    "        print('Team:',self.__name)\n",
    "        print('List of Players:')\n",
    "        print(self.__player_list)\n",
    "        print('=========================================')\n",
    "    \n",
    "class Player :\n",
    "    def __init__(self,player_name) :\n",
    "        self.player_name = player_name \n",
    "\n",
    "b = Team()\n",
    "b.setName('Bangladesh')\n",
    "mashrafi = Player(\"Mashrafi\")\n",
    "b.addPlayer(mashrafi)\n",
    "tamim = Player(\"Tamim\")\n",
    "b.addPlayer(tamim)\n",
    "b.printDetail()\n",
    "a = Team(\"Australia\")\n",
    "ponting = Player(\"Ponting\")\n",
    "a.addPlayer(ponting)\n",
    "lee = Player(\"Lee\")\n",
    "a.addPlayer(lee)\n",
    "a.printDetail()"
   ]
  },
  {
   "cell_type": "code",
   "execution_count": 4,
   "metadata": {
    "colab": {
     "base_uri": "https://localhost:8080/"
    },
    "id": "JAjKYjVAsrgr",
    "outputId": "d33254cc-d0ea-4fa5-8aa1-0962c920c193"
   },
   "outputs": [
    {
     "name": "stdout",
     "output_type": "stream",
     "text": [
      "First Color: blue\n",
      "Second Color: red\n",
      "Color formed: Violet\n"
     ]
    }
   ],
   "source": [
    "# task 4 \n",
    "class Color :\n",
    "    def __init__(self,clr) :\n",
    "        self.clr = clr \n",
    "    def __add__(self,other) :\n",
    "        ans = self.clr + other.clr \n",
    "        dic = {'Orange' : ['redyellow','yellowred'],\n",
    "               'Violet' : ['redblue','bluered'] ,\n",
    "               'Green' : ['yellowblue','blueyellow']}\n",
    "        for key,value in dic.items() :\n",
    "            if ans in value :\n",
    "                obj = Color(key)\n",
    "                return obj\n",
    "\n",
    "C1 = Color(input(\"First Color: \").lower())\n",
    "C2 = Color(input(\"Second Color: \").lower())\n",
    "C3 = C1 + C2\n",
    "print(\"Color formed:\", C3.clr)"
   ]
  },
  {
   "cell_type": "code",
   "execution_count": 5,
   "metadata": {
    "colab": {
     "base_uri": "https://localhost:8080/"
    },
    "id": "-D6mhx78x5aj",
    "outputId": "5530d58d-3b80-48ea-a892-7668b52538cc"
   },
   "outputs": [
    {
     "name": "stdout",
     "output_type": "stream",
     "text": [
      "First circle radius: 4\n",
      "First circle area: 50.26548245743669\n",
      "Second circle radius: 5\n",
      "Second circle area: 78.53981633974483\n",
      "Third circle radius: 9\n",
      "Third circle area: 254.46900494077323\n"
     ]
    }
   ],
   "source": [
    "# task 5 \n",
    "class Circle :\n",
    "    def __init__(self,radius) :\n",
    "        self.__radius = radius\n",
    "    def getRadius(self) :\n",
    "        return self.__radius \n",
    "    def area(self) :\n",
    "        import math \n",
    "        area_circle = math.pi * self.__radius ** 2 \n",
    "        return area_circle\n",
    "    def __add__(self,other) :\n",
    "       ans = self.__radius + other.__radius \n",
    "       obj = Circle(ans)\n",
    "       return obj\n",
    "\n",
    "c1 = Circle(4)\n",
    "print(\"First circle radius:\" , c1.getRadius())\n",
    "print(\"First circle area:\" ,c1.area())\n",
    "c2 = Circle(5)\n",
    "print(\"Second circle radius:\" ,c2.getRadius())\n",
    "print(\"Second circle area:\" ,c2.area())\n",
    "c3 = c1 + c2\n",
    "print(\"Third circle radius:\" ,c3.getRadius())\n",
    "print(\"Third circle area:\" ,c3.area())"
   ]
  },
  {
   "cell_type": "code",
   "execution_count": 6,
   "metadata": {
    "colab": {
     "base_uri": "https://localhost:8080/"
    },
    "id": "6145WMJd7vqC",
    "outputId": "5494cbdc-7beb-4b71-bdba-b46f81ecb4dc"
   },
   "outputs": [
    {
     "name": "stdout",
     "output_type": "stream",
     "text": [
      "First Triangle Base: 10\n",
      "First Triangle Height: 5\n",
      "First Triangle area: 25.0\n",
      "Second Triangle Base: 5\n",
      "Second Triangle Height: 3\n",
      "Second Triangle area: 7.5\n",
      "Third Triangle Base: 5\n",
      "Third Triangle Height: 2\n",
      "Third Triangle area: 5.0\n"
     ]
    }
   ],
   "source": [
    "# task 6\n",
    "class Triangle :\n",
    "    def __init__(self,base,height):\n",
    "        self.__base = base\n",
    "        self.__height = height\n",
    "    def getBase(self):\n",
    "        return self.__base\n",
    "    def getHeight(self):\n",
    "        return self.__height\n",
    "    def area(self):\n",
    "        area_triangle = 0.5 * self.__base * self.__height\n",
    "        return area_triangle\n",
    "    def __sub__(self,other):\n",
    "        sub_base = self.__base - other.__base\n",
    "        sub_height = self.__height - other.__height\n",
    "        obj = Triangle(sub_base,sub_height)\n",
    "        return obj\n",
    "        \n",
    "t1 = Triangle(10, 5)\n",
    "print(\"First Triangle Base:\" , t1.getBase())\n",
    "print(\"First Triangle Height:\" , t1.getHeight())\n",
    "print(\"First Triangle area:\" ,t1.area())\n",
    "t2 = Triangle(5, 3)\n",
    "print(\"Second Triangle Base:\" , t2.getBase())\n",
    "print(\"Second Triangle Height:\" , t2.getHeight())\n",
    "print(\"Second Triangle area:\" ,t2.area())\n",
    "t3 = t1 - t2\n",
    "print(\"Third Triangle Base:\" , t3.getBase())\n",
    "print(\"Third Triangle Height:\" , t3.getHeight())\n",
    "print(\"Third Triangle area:\" ,t3.area())"
   ]
  },
  {
   "cell_type": "code",
   "execution_count": 8,
   "metadata": {
    "colab": {
     "base_uri": "https://localhost:8080/"
    },
    "id": "45hF0mc4-mYb",
    "outputId": "433a0f62-2c4b-4604-a09f-20bca7636283"
   },
   "outputs": [
    {
     "name": "stdout",
     "output_type": "stream",
     "text": [
      "Doll:Tweety\n",
      "Total price:2500 taka\n",
      "Thank you!\n",
      "=========================\n",
      "Doll:Daffy Duck\n",
      "Total price:1800 taka\n",
      "Thank you!\n",
      "=========================\n",
      "Doll:Bugs Bunny\n",
      "Total price:3000 taka\n",
      "Congratulations! You get the Tweety as a gift!\n",
      "=========================\n",
      "Doll:Porky Pig\n",
      "Total price:1500 taka\n",
      "Thank you!\n",
      "=========================\n",
      "Dolls:Daffy DuckBugs Bunny\n",
      "Total price:4800 taka\n",
      "Congratulations! You get the Tweety as a gift!\n"
     ]
    }
   ],
   "source": [
    "# task 7 \n",
    "class Dolls :\n",
    "    def __init__(self,name,price):\n",
    "        self.name = name\n",
    "        self.price = price\n",
    "        self.flag = False \n",
    "    def __add__(self,other):\n",
    "        dolls = self.name + other.name\n",
    "        total = self.price + other.price\n",
    "        obj = Dolls(dolls,total)\n",
    "        obj.flag = True \n",
    "        return obj\n",
    "    def __gt__(self,other):\n",
    "        if self.price > other.price :\n",
    "            return True \n",
    "        else :\n",
    "            return False \n",
    "    def detail(self):\n",
    "        if self.flag == False :\n",
    "            ans = 'Doll:' + self.name + '\\n' + 'Total price:' + str(self.price) + ' taka'\n",
    "        else :\n",
    "            ans = 'Dolls:' + self.name + '\\n' + 'Total price:' + str(self.price) + ' taka'\n",
    "        return ans\n",
    "\n",
    "obj_1 = Dolls(\"Tweety\", 2500)\n",
    "print(obj_1.detail())\n",
    "if obj_1 > obj_1:\n",
    "    print(\"Congratulations! You get the Tweety as a gift!\")\n",
    "else:\n",
    "    print(\"Thank you!\")\n",
    "print(\"=========================\")\n",
    "obj_2 = Dolls(\"Daffy Duck\", 1800)\n",
    "print(obj_2.detail())\n",
    "if obj_2 > obj_1:\n",
    "    print(\"Congratulations! You get the Tweety as a gift!\")\n",
    "else:\n",
    "    print(\"Thank you!\")\n",
    "print(\"=========================\")\n",
    "obj_3 = Dolls(\"Bugs Bunny\", 3000)\n",
    "print(obj_3.detail())\n",
    "if obj_3 > obj_1:\n",
    "    print(\"Congratulations! You get the Tweety as a gift!\")\n",
    "else:\n",
    "    print(\"Thank you!\")\n",
    "print(\"=========================\")\n",
    "obj_4 = Dolls(\"Porky Pig\", 1500)\n",
    "print(obj_4.detail())\n",
    "if obj_4 > obj_1:\n",
    "    print(\"Congratulations! You get the Tweety as a gift!\")\n",
    "else:\n",
    "    print(\"Thank you!\")\n",
    "print(\"=========================\")\n",
    "obj_5 = obj_2 + obj_3\n",
    "print(obj_5.detail())\n",
    "if obj_5 > obj_1:\n",
    "    print(\"Congratulations! You get the Tweety as a gift!\")"
   ]
  },
  {
   "cell_type": "code",
   "execution_count": 3,
   "metadata": {
    "colab": {
     "base_uri": "https://localhost:8080/"
    },
    "id": "fVthxlX_ITxo",
    "outputId": "bb06b0b7-e054-496b-d00a-7df35706128e"
   },
   "outputs": [
    {
     "name": "stdout",
     "output_type": "stream",
     "text": [
      "1\n",
      "2\n",
      "3\n",
      "4\n",
      "(-2,-2)\n",
      "(3,8)\n",
      "The calculated coordinates are NOT the same\n"
     ]
    }
   ],
   "source": [
    "# task 8 \n",
    "class Coordinates :\n",
    "    def __init__(self,num1,num2):\n",
    "        self.__num1 = num1\n",
    "        self.__num2 = num2\n",
    "    def __sub__(self,other):\n",
    "        sub_nums1 = self.__num1 - other.__num1\n",
    "        sub_nums2= self.__num2 - other.__num2\n",
    "        ans1 = Coordinates(sub_nums1,sub_nums2)\n",
    "        return ans1\n",
    "    def __mul__(self,other):\n",
    "        mul_nums1 = self.__num1 * other.__num1\n",
    "        mul_nums2 = self.__num2 * other.__num2\n",
    "        ans2 = Coordinates(mul_nums1,mul_nums2)\n",
    "        return ans2\n",
    "    def __eq__(self,other):\n",
    "        if self.__num1 == other.__num1 and self.__num2 == other.__num2 :\n",
    "            return 'The calculated coordinates are the same'\n",
    "        else :\n",
    "            return 'The calculated coordinates are NOT the same'\n",
    "    def detail(self):\n",
    "        final_ans = '(' + str(self.__num1) + ',' + str(self.__num2) + ')'\n",
    "        return final_ans\n",
    "        # return '(' + str(self.__num1) + ',' + str(self.__num2) + ')'\n",
    "\n",
    "p1 = Coordinates(int(input()),int(input()))\n",
    "p2 = Coordinates(int(input()),int(input()))\n",
    "p4 = p1 - p2\n",
    "print(p4.detail())\n",
    "p5 = p1 * p2\n",
    "print(p5.detail())\n",
    "point_check = (p4 == p5)\n",
    "print(point_check)"
   ]
  }
 ],
 "metadata": {
  "colab": {
   "name": "Assignment 5_21101298_ANIKA ISLAM",
   "provenance": []
  },
  "kernelspec": {
   "display_name": "Python 3",
   "language": "python",
   "name": "python3"
  },
  "language_info": {
   "codemirror_mode": {
    "name": "ipython",
    "version": 3
   },
   "file_extension": ".py",
   "mimetype": "text/x-python",
   "name": "python",
   "nbconvert_exporter": "python",
   "pygments_lexer": "ipython3",
   "version": "3.8.8"
  }
 },
 "nbformat": 4,
 "nbformat_minor": 1
}
