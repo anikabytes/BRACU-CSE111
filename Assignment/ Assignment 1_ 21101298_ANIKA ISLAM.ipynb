{
 "cells": [
  {
   "cell_type": "markdown",
   "metadata": {
    "id": "H-CH5JUxhnK4"
   },
   "source": [
    "CSE111 ASSIGNMENT 1 \n",
    "---\n",
    "NAME : ANIKA ISLAM \n",
    "\n",
    "ID : 21101298 \n",
    "\n",
    "SECTION : 15\n",
    "\n"
   ]
  },
  {
   "cell_type": "markdown",
   "metadata": {
    "id": "NKjshV3kjVb6"
   },
   "source": [
    "\n",
    "STRING \n",
    "---\n",
    "\n",
    "\n",
    "1. From a given string, print the string in all uppercase if the number of uppercase  letters is more than lowercase letters. Otherwise, if lowercase is greater or equal to uppercase letters, print all lowercase. The inputs will contain letters (A-Z, a-z)  only. \n",
    "\n",
    "\n",
    "Sample Input \n",
    "\n",
    "HOusE\n",
    "\n",
    "ApplE \n",
    "\n",
    "BaNaNa \n",
    "\n",
    "\n",
    "\n",
    "\n",
    "\n",
    "Sample Output \n",
    "\n",
    "HOUSE \n",
    "\n",
    "apple\n",
    " \n",
    "banana\n",
    "\n"
   ]
  },
  {
   "cell_type": "code",
   "execution_count": 4,
   "metadata": {
    "colab": {
     "base_uri": "https://localhost:8080/"
    },
    "id": "NBOgLNehj6J0",
    "outputId": "13786b4f-cb0d-41e5-a87b-53d6f3286766"
   },
   "outputs": [
    {
     "name": "stdout",
     "output_type": "stream",
     "text": [
      "enter a word : BaNaNa\n",
      "banana\n"
     ]
    }
   ],
   "source": [
    "# STRING \n",
    "# task 1 \n",
    "word = input('enter a word : ')\n",
    "ans = ''\n",
    "lower_count = 0 \n",
    "upper_count = 0\n",
    "for letter in word :\n",
    "  if 65 <= ord(letter) <= 90 :\n",
    "    upper_count += 1 \n",
    "  if 97 <= ord(letter) <= 122 :\n",
    "    lower_count += 1 \n",
    "if upper_count > lower_count :\n",
    "  for letter in word :\n",
    "    if 65 <= ord(letter) <= 90 :\n",
    "      ans += letter\n",
    "    else :\n",
    "      ans += chr(ord(letter) - 32)\n",
    "else :\n",
    "  for letter in word :\n",
    "    if 65 <= ord(letter) <= 90 :\n",
    "      ans += chr(ord(letter)+32) \n",
    "    else :\n",
    "      ans += letter\n",
    "print (ans)"
   ]
  },
  {
   "cell_type": "markdown",
   "metadata": {
    "id": "FVMBYSh7oi7v"
   },
   "source": [
    "\n",
    "\n",
    "2. Given a string, print whether it is a number, word or mixed with digit and letters.  If all the characters are numeric values, print NUMBER. If they are all letters, print  WORD. If it is mixed, print MIXED. \n",
    "\n",
    "\n",
    "Sample Input \n",
    "\n",
    "213213 \n",
    "\n",
    "jhg231j213\n",
    "\n",
    "Hello \n",
    "\n",
    "\n",
    "\n",
    "Sample Output \n",
    "\n",
    "NUMBER\n",
    "\n",
    "MIXED \n",
    "\n",
    "WORD\n",
    "\n"
   ]
  },
  {
   "cell_type": "code",
   "execution_count": 2,
   "metadata": {
    "colab": {
     "base_uri": "https://localhost:8080/"
    },
    "id": "01gNUQ5voxEV",
    "outputId": "ac75552a-5db1-4336-8ed5-b8c0f4110108"
   },
   "outputs": [
    {
     "name": "stdout",
     "output_type": "stream",
     "text": [
      "enter : jhg231j213\n",
      "MIXED\n"
     ]
    }
   ],
   "source": [
    "# task 2 \n",
    "temp = input('enter : ')\n",
    "number = '1,2,3,4,5,6,7,8,9,0'\n",
    "number_count = 0\n",
    "letter_count = 0\n",
    "for item in temp :\n",
    "  if 65 <= ord(item) <= 90 or 97 <= ord(item) <= 122 :\n",
    "    letter_count += 1 \n",
    "  if item in number :\n",
    "    number_count += 1 \n",
    "if number_count != 0 and letter_count == 0:\n",
    "  print ('NUMBER')\n",
    "elif letter_count != 0 and number_count == 0:\n",
    "  print('WORD')\n",
    "elif number_count != 0 and letter_count != 0 :\n",
    "  print('MIXED')\n",
    "\n"
   ]
  },
  {
   "cell_type": "markdown",
   "metadata": {
    "id": "jzFp_GiutReX"
   },
   "source": [
    "\n",
    "\n",
    "3. In a given string, there will be two uppercase letters in between some lowercase  letters. Print the substring from the first uppercase letter to the last uppercase letter  excluding them. If there are no letters in between them, print the word BLANK. It  is guaranteed that there will be only two uppercase letters in the string.\n",
    "\n",
    "\n",
    "Sample Input \n",
    "\n",
    "baNgladEsh \n",
    "\n",
    "coDIng \n",
    "\n",
    "\n",
    "\n",
    "Sample Output \n",
    "\n",
    "glad \n",
    "\n",
    "BLANK\n",
    "\n"
   ]
  },
  {
   "cell_type": "code",
   "execution_count": 4,
   "metadata": {
    "colab": {
     "base_uri": "https://localhost:8080/"
    },
    "id": "KPequtstfT6d",
    "outputId": "9909522d-9f2e-4139-c2ff-534f3ba1cbf5"
   },
   "outputs": [
    {
     "name": "stdout",
     "output_type": "stream",
     "text": [
      "enter a word : baNgladEsh\n",
      "glad\n"
     ]
    }
   ],
   "source": [
    "# task 3 \n",
    "# word = 'baNgladEsh'\n",
    "# word = 'coDIng'\n",
    "word = input('enter a word : ')\n",
    "ans = ''\n",
    "count = 0\n",
    "for i in range(0,len(word)) :\n",
    "  if 65 <= ord(word[i]) <= 90 :\n",
    "    count += 1 \n",
    "    continue\n",
    "  if count == 1 :\n",
    "    ans += word[i]\n",
    "  if count == 2 and ans == '' :\n",
    "    print('BLANK')\n",
    "    break\n",
    "print(ans) \n",
    "\n"
   ]
  },
  {
   "cell_type": "markdown",
   "metadata": {
    "id": "-jTCz3uGvuGC"
   },
   "source": [
    "\n",
    "\n",
    "4. Write a Python program to find the first appearance of the substring 'too' and  'good' from a given string. If 'good' follows the 'too', replace the whole 'too'' good'  substring with 'excellent' and print the resulting string. If the above does not  appear, print the string as it is. \n",
    "\n",
    "Sample Input \n",
    "\n",
    "The book is not too good! \n",
    "\n",
    "This book is good too! \n",
    "\n",
    "Sample Output \n",
    "\n",
    "The book is not excellent! \n",
    "\n",
    "This book is good too! "
   ]
  },
  {
   "cell_type": "code",
   "execution_count": 5,
   "metadata": {
    "colab": {
     "base_uri": "https://localhost:8080/"
    },
    "id": "BxgbSyHWmuzQ",
    "outputId": "2cc59531-16a1-408d-c888-e9a05ab6d5b3"
   },
   "outputs": [
    {
     "name": "stdout",
     "output_type": "stream",
     "text": [
      "enter a sentence : This book is not too good!\n",
      "This book is not excellent!\n"
     ]
    }
   ],
   "source": [
    "# task 4 \n",
    "sentence = input('enter a sentence : ')\n",
    "if 'too good' in sentence :\n",
    "    sentence = sentence.split('too good')\n",
    "    print(sentence[0] + 'excellent' + sentence[1])\n",
    "else :\n",
    "    print (sentence)"
   ]
  },
  {
   "cell_type": "markdown",
   "metadata": {
    "id": "TOiFmpqHgawA"
   },
   "source": [
    "\n",
    "\n",
    "5. Create a string from two given strings by concatenating common characters of  the given strings.\n",
    "\n",
    "\n",
    "Sample Input \n",
    "\n",
    "harry, hermione \n",
    "\n",
    "dean, tom \n",
    "\n",
    "\n",
    "\n",
    "\n",
    "\n",
    "Sample Output \n",
    "\n",
    "hrrhr \n",
    "\n",
    "Nothing in common.\n",
    "\n"
   ]
  },
  {
   "cell_type": "code",
   "execution_count": 2,
   "metadata": {
    "colab": {
     "base_uri": "https://localhost:8080/"
    },
    "id": "AqxoPZwlgr4i",
    "outputId": "576b1423-8d4b-4c70-c170-ba8b7e27344e"
   },
   "outputs": [
    {
     "name": "stdout",
     "output_type": "stream",
     "text": [
      "enter two words : harry,hermione\n",
      "hrrhr\n"
     ]
    }
   ],
   "source": [
    "# task 5 \n",
    "# word = 'dean,tom'\n",
    "# word = 'harry,hermione'\n",
    "word = input ('enter two words : ')\n",
    "word = word.split(',')\n",
    "word1 = word[0]\n",
    "word2 = word[1]\n",
    "common_letters = ''\n",
    "count = 0 \n",
    "for letter1 in word1 :\n",
    "  if letter1 in word2 :\n",
    "    common_letters += letter1\n",
    "    count += 1 \n",
    "for letter2 in word2 :\n",
    "  if letter2 in word1 :\n",
    "    common_letters += letter2\n",
    "    count += 1 \n",
    "if count == 0 :\n",
    "  print ('Nothing in common')\n",
    "else :\n",
    "  print (common_letters)\n",
    "\n"
   ]
  },
  {
   "cell_type": "markdown",
   "metadata": {
    "id": "n8orT5vU_fFg"
   },
   "source": [
    "6. Again, you have lost your USIS password!! You went to the registrar office and  requested for a new password. This time, you need to follow some rules to set your  password. Otherwise, they won't change it. The rules are \n",
    "\n",
    "At least one lowercase letter \n",
    "\n",
    "At least one uppercase letter \n",
    "\n",
    "At least one digit (0-9) \n",
    "\n",
    "At least one special character (_ , $ , #, @) \n",
    "\n",
    "Your task is to find whether a given password follows all those rules. If it breaks  any rule, you have to print Lowercase Missing, Uppercase Missing, Digit Missing  or Special Missing respective to the missing case. For more than one rule break,  print all the rules that were broken (order doesn't matter). If the password is ok,  print OK.\n",
    "\n",
    "Sample Input \n",
    "\n",
    "ohMyBR@CU  \n",
    "\n",
    "ohmybracu \n",
    "\n",
    "OhMyBR@CU20 \n",
    "\n",
    "Sample Output\n",
    "\n",
    "Digit missing \n",
    "\n",
    "Uppercase character missing, Digit missing, Special character \n",
    "\n",
    "missing  OK \n"
   ]
  },
  {
   "cell_type": "code",
   "execution_count": 6,
   "metadata": {
    "colab": {
     "base_uri": "https://localhost:8080/"
    },
    "id": "ggQG_MaOBf3c",
    "outputId": "e845c8ed-e5ee-4c89-db42-c9829bb25b80"
   },
   "outputs": [
    {
     "name": "stdout",
     "output_type": "stream",
     "text": [
      "enter new password : ohmybracu\n",
      "Digit missing, Uppercase character missing, Special character missing"
     ]
    }
   ],
   "source": [
    "# task 6 \n",
    "password = input('enter new password : ')\n",
    "# password = 'ohMyBR@CU'\n",
    "# password = 'ohmybracu'\n",
    "# password = 'OhMyBR@CU20'\n",
    "digit_count = 0\n",
    "upper_count = 0 \n",
    "lower_count = 0\n",
    "special_count = 0 \n",
    "\n",
    "for item in password :\n",
    "  if item in '0,1,2,3,4,5,6,7,8,9' :\n",
    "    digit_count += 1 \n",
    "  elif 65 <= ord(item) <= 90  :\n",
    "    upper_count += 1 \n",
    "  elif  97 <= ord(item) <= 122 :\n",
    "    lower_count += 1 \n",
    "  elif item in '-,$,#,@' :\n",
    "    special_count += 1\n",
    "if digit_count != 0 and upper_count != 0 and lower_count != 0 and special_count != 0 :\n",
    "  print('OK')\n",
    "if digit_count == 0 : \n",
    "  print('Digit missing',end = '')\n",
    "if upper_count == 0 :\n",
    "  if digit_count == 0 :\n",
    "    print (', Uppercase character missing',end = '') \n",
    "  else :\n",
    "    print ('Uppercase character missing',end = '')\n",
    "if  lower_count == 0  :\n",
    "  if digit_count == 0 or upper_count == 0 :\n",
    "    print (', Lowercase character missing',end = '') \n",
    "  else :\n",
    "    print ('Lowercase character missing',end = '')\n",
    "if special_count == 0 :\n",
    "   if digit_count == 0 or upper_count == 0 or lower_count == 0 :\n",
    "    print (', Special character missing',end = '') \n",
    "   else :\n",
    "    print ('Special character missing'"
   ]
  },
  {
   "cell_type": "markdown",
   "metadata": {
    "id": "1JgL1rEo8UR0"
   },
   "source": [
    "\n",
    "LIST \n",
    "---\n",
    "\n",
    "\n",
    "1. Write a python program which prints the frequency of the numbers that were given  as input by the user. Stop taking input when you find the string “STOP”. Do not  print the frequency of numbers that were not given as input. \n",
    "\n",
    "Sample Input \n",
    "\n",
    "\n",
    "10 \n",
    "\n",
    "20\n",
    "\n",
    "20 \n",
    "\n",
    "30 \n",
    "\n",
    "10 \n",
    "\n",
    "50\n",
    "\n",
    "90 \n",
    "\n",
    "STOP \n",
    "\n",
    "Sample Output \n",
    "\n",
    "10 - 2 times \n",
    "\n",
    "20 - 2 times \n",
    "\n",
    "30 - 1 times \n",
    "\n",
    "50 - 1 times \n",
    "\n",
    "90 - 1 times \n",
    "\n",
    "\n"
   ]
  },
  {
   "cell_type": "code",
   "execution_count": null,
   "metadata": {
    "colab": {
     "base_uri": "https://localhost:8080/"
    },
    "id": "VoQqU0i88VeQ",
    "outputId": "faaef407-0999-408a-e2a9-54b1890d1c4e"
   },
   "outputs": [
    {
     "name": "stdout",
     "output_type": "stream",
     "text": [
      "enter numbers : 10\n",
      "enter numbers : 20\n",
      "enter numbers : 20\n",
      "enter numbers : 30\n",
      "enter numbers : 10\n",
      "enter numbers : 50\n",
      "enter numbers : 90\n",
      "enter numbers : STOP\n",
      "10 - 2 times\n",
      "20 - 2 times\n",
      "30 - 1 times\n",
      "50 - 1 times\n",
      "90 - 1 times\n"
     ]
    }
   ],
   "source": [
    "# LIST \n",
    "# task 1\n",
    "number_list = []\n",
    "num_list = []\n",
    "ans = ''\n",
    "count_list = []\n",
    "for item in range(0,1000000) :\n",
    "  number = input('enter numbers : ')\n",
    "  if number == 'STOP' :\n",
    "    break \n",
    "  else :\n",
    "    number = int(number)\n",
    "    number_list.append(number)\n",
    "    if number not in num_list :\n",
    "      num_list.append(number)\n",
    "for item2 in num_list :\n",
    "  count = 0 \n",
    "  for item3 in number_list :\n",
    "    if item2 == item3 :\n",
    "      count += 1\n",
    "  count_list.append(count)\n",
    "for item4 in range(len(num_list)) :\n",
    "  print(str(num_list[item4]) + ' - ' + str(count_list[item4]) + ' times')"
   ]
  },
  {
   "cell_type": "markdown",
   "metadata": {
    "id": "eUkSgOMoZJlm"
   },
   "source": [
    "2. Write a python program that calculates the sum of N given lists and prints the highest sum and its respective list. Input starts with N and followed by N lists.\n",
    "\n",
    "Sample Input\n",
    " 4 \n",
    "\n",
    "1 2 3 \n",
    "\n",
    "4 5 6 \n",
    "\n",
    "10 11 12 \n",
    "\n",
    "7 8 9 \n",
    "\n",
    "Sample Output \n",
    "\n",
    "33 \n",
    "\n",
    "[10, 11, 12] \n"
   ]
  },
  {
   "cell_type": "code",
   "execution_count": null,
   "metadata": {
    "colab": {
     "base_uri": "https://localhost:8080/"
    },
    "id": "Pd3IyJXpaA9a",
    "outputId": "ca5b9ab0-1855-46b4-cd34-2c9fb4d88692"
   },
   "outputs": [
    {
     "name": "stdout",
     "output_type": "stream",
     "text": [
      "enter the number of lists : 4 \n",
      "enter the numbers in the lists : 1 2 3\n",
      "enter the numbers in the lists : 4 5 6\n",
      "enter the numbers in the lists : 10 11 12\n",
      "enter the numbers in the lists : 7 8 9\n",
      "33\n",
      "[10, 11, 12]\n"
     ]
    }
   ],
   "source": [
    "# task 2 \n",
    "num = int(input('enter the number of lists : '))\n",
    "maxim = 0 \n",
    "new_list = []\n",
    "for item in range(0,num) :\n",
    "  lis = input('enter the numbers in the lists : ').split()\n",
    "  summ = 0\n",
    "  for num in lis :\n",
    "    num = int(num)\n",
    "    summ += num\n",
    "  if summ > maxim :\n",
    "    maxim = summ\n",
    "    maxim_list = lis \n",
    "for numbers in maxim_list :\n",
    "  numbers = int(numbers)\n",
    "  new_list.append(numbers)\n",
    "print(maxim)\n",
    "print(new_list)   "
   ]
  },
  {
   "cell_type": "markdown",
   "metadata": {
    "id": "3LxhlIn46Twn"
   },
   "source": [
    "3. Write a python program that prints a list which contains cross multiplication between two given lists. \n",
    "\n",
    "Sample Input \n",
    "\n",
    "2 3 6 \n",
    "\n",
    "3 4 5  \n",
    "\n",
    "Sample Output \n",
    "\n",
    "[6, 8, 10, 9, 12, 15, 18, 24, 30] \n",
    "\n"
   ]
  },
  {
   "cell_type": "code",
   "execution_count": 11,
   "metadata": {
    "colab": {
     "base_uri": "https://localhost:8080/"
    },
    "id": "49lF8OTt6p-7",
    "outputId": "576c4491-4261-4111-ec42-47bf7e033b40"
   },
   "outputs": [
    {
     "name": "stdout",
     "output_type": "stream",
     "text": [
      "enter 1st list : 2 3 4\n",
      "enter 2nd list : 3 4 5\n",
      "[6, 8, 10, 9, 12, 15, 16, 20]\n"
     ]
    }
   ],
   "source": [
    "# task 3 \n",
    "list_one = input('enter 1st list : ').split()\n",
    "list_two = input('enter 2nd list : ').split()\n",
    "# list_one = [2,3,6]\n",
    "# list_two = [3,4,5] \n",
    "multiply_list = []\n",
    "for num1 in list_one :\n",
    "  num1 = int(num1)\n",
    "  for num2 in list_two :\n",
    "    num2 = int(num2)\n",
    "    multiply = num1 * num2 \n",
    "    if multiply not in multiply_list:\n",
    "        multiply_list.append(multiply)\n",
    "print (multiply_list)"
   ]
  },
  {
   "cell_type": "markdown",
   "metadata": {
    "id": "3NSIRBND7TBY"
   },
   "source": [
    "###### \n",
    "4. Let there are N numbers in a list and that list is said to be a UB Jumper if the  absolute values of the difference between the successive elements take on all the  values 1 through N − 1. For example, 2 1 4 6 10 is a UB Jumper because the absolute  differences between them are 1 3 2 4 which is all numbers from 1 to (5 - 1) or 4.  Write a python program that takes a number sequence as input and prints  whether it is a UB Jumper or Not UB Jumper. Input will stop after getting  “STOP” as input. (Number order or absolute difference order doesn’t follow any  sequence.) \n",
    "\n",
    "Sample Input \n",
    "\n",
    "1 4 2 3 \n",
    "\n",
    "2 1 4 6 10 \n",
    "\n",
    "1 4 2 -1 6 \n",
    "\n",
    "STOP \n",
    "\n",
    "Sample Output \n",
    "\n",
    "UB Jumper  \n",
    "\n",
    "UB Jumper \n",
    "\n",
    "Not UB Jumper \n"
   ]
  },
  {
   "cell_type": "code",
   "execution_count": 1,
   "metadata": {
    "colab": {
     "base_uri": "https://localhost:8080/"
    },
    "id": "4tQ66pjC7eBD",
    "outputId": "ab8ba180-9444-4d88-df1b-d59c4d4b2404"
   },
   "outputs": [
    {
     "name": "stdout",
     "output_type": "stream",
     "text": [
      "enter numbers in the list : 1 4 2 3\n",
      "enter numbers in the list : 2 1 4 6 10\n",
      "enter numbers in the list : 1 4 2 -1 6\n",
      "enter numbers in the list : STOP\n",
      "UB Jumper\n",
      "UB Jumper\n",
      "Not UB Jumper\n"
     ]
    }
   ],
   "source": [
    "# task 4 \n",
    "numbers_list = []\n",
    "diff_list = []\n",
    "count_list = 0 \n",
    "ans_list = []\n",
    "ans_list2 = []\n",
    "for item in range(0,100000) :\n",
    "  lis = input('enter numbers in the list : ')\n",
    "  count_list += 1 \n",
    "  if lis == 'STOP' :\n",
    "    break\n",
    "  else :\n",
    "    lis = lis.split()\n",
    "    for nums in range(0,len(lis)-1) :\n",
    "      lis[nums] = int(lis[nums])\n",
    "      lis[nums+1] = int(lis[nums+1])\n",
    "      diff = lis[nums] - lis[nums+1]\n",
    "      if diff in (-1,-2,-3,-4,-5,-6,-7,-8,-9) :\n",
    "         diff = diff * -1\n",
    "      if 1<= diff <= len(lis) -1 and diff != 0: \n",
    "        ans = 'UB Jumper'\n",
    "      else :\n",
    "        ans = 'Not UB Jumper'\n",
    "    ans_list.append(ans)\n",
    "for result in ans_list :\n",
    "    print (result)\n",
    "        \n",
    "    \n"
   ]
  },
  {
   "cell_type": "markdown",
   "metadata": {
    "id": "uTbNQ7w3SGWl"
   },
   "source": [
    "5. You are given a string that contains alphanumeric characters only. Your task is to  sort the string in the following manner: \n",
    "\n",
    "a. All sorted lowercase letters are ahead of uppercase letters. \n",
    "\n",
    "b. All sorted uppercase letters are ahead ofdigits. \n",
    "\n",
    "c. All sorted odd digits are ahead of sorted even digits.\n",
    "\n",
    "\n",
    "Sample Input \n",
    "\n",
    "Bracu1234 \n",
    "\n",
    "Sample Output\n",
    "\n",
    " acruB1324 "
   ]
  },
  {
   "cell_type": "code",
   "execution_count": 4,
   "metadata": {
    "colab": {
     "base_uri": "https://localhost:8080/"
    },
    "id": "VC5lOC20zScO",
    "outputId": "dfc10400-58ea-4cea-d2dd-077197d29634"
   },
   "outputs": [
    {
     "name": "stdout",
     "output_type": "stream",
     "text": [
      "enter a word : Bracu1234\n",
      "acruB1324"
     ]
    }
   ],
   "source": [
    "# task 5 \n",
    "# word = 'Bracu1234'\n",
    "word = input ('enter a word : ')\n",
    "ans_list = []\n",
    "ans1 = []\n",
    "ans2 = []\n",
    "ans3 = []\n",
    "ans4 = []\n",
    "\n",
    "for char in range(0,len(word)) :\n",
    "  if 97 <= ord(word[char]) <= 122 :\n",
    "      ans1.append(word[char])\n",
    "  if 65 <= ord(word[char]) <= 90 :\n",
    "      ans2.append(word[char])\n",
    "  if word[char] in '1,2,3,4,5,6,7,8,9,0' :\n",
    "    if int(word[char]) %2 != 0 :\n",
    "      ans3.append(int(word[char]))\n",
    "    if int(word[char]) %2 == 0 :\n",
    "      ans4.append(int(word[char]))\n",
    "\n",
    "for item1 in range(len(ans1)) :\n",
    "  minim = ans1[item1]\n",
    "  minim_index = item1\n",
    "  for item2 in range(item1+1,len(ans1)) :\n",
    "    if minim > ans1[item2] :\n",
    "      minim = ans1[item2]\n",
    "      minim_index = item2\n",
    "  temp = ans1[minim_index]\n",
    "  ans1[minim_index] = ans1[item1]\n",
    "  ans1[item1] = temp\n",
    "\n",
    "for item3 in range(len(ans2)) :\n",
    "  minim = ans2[item3]\n",
    "  minim_index = item3\n",
    "  for item4 in range(item3+1,len(ans2)) :\n",
    "    if minim > ans2[item4] :\n",
    "      minim = ans2[item4]\n",
    "      minim_index = item4\n",
    "  temp2 = ans2[minim_index]\n",
    "  ans2[minim_index] = ans2[item3]\n",
    "  ans2[item3] = temp2\n",
    "\n",
    "for item5 in range(len(ans3)) :\n",
    "  minim = ans3[item5]\n",
    "  minim_index = item5\n",
    "  for item6 in range(item5+1,len(ans3)) :\n",
    "    if minim > ans3[item6] :\n",
    "      minim = ans3[item6]\n",
    "      minim_index = item4\n",
    "  temp3 = ans3[minim_index]\n",
    "  ans3[minim_index] = ans3[item5]\n",
    "  ans3[item5] = temp3\n",
    "\n",
    "for item7 in range(len(ans4)) :\n",
    "  minim = ans4[item7]\n",
    "  minim_index = item7\n",
    "  for item8 in range(item7+1,len(ans4)) :\n",
    "    if minim > ans4[item8] :\n",
    "      minim = ans4[item8]\n",
    "      minim_index = item8\n",
    "  temp4 = ans4[minim_index]\n",
    "  ans4[minim_index] = ans4[item7]\n",
    "  ans4[item7] = temp4\n",
    "\n",
    "final = ans1 + ans2 + ans3 + ans4 \n",
    "for char in final :\n",
    "  print(char,end='')"
   ]
  },
  {
   "cell_type": "markdown",
   "metadata": {
    "id": "xkHZc6TEETKR"
   },
   "source": [
    "6. BRACU has n students who are regular competitive programmers. According  to the ACM ICPC rules, each person can participate in the regional championship  at most 5 times. \n",
    "\n",
    "The head of the BRACU ACM Chapter is recently gathering teams to participate  in this championship. Each team must consist of exactly three people, at that, any  person cannot be a member of two or more teams. What maximum number of teams  can the head make if he wants each team to participate in the world championship  with the same members at least k times? \n",
    "\n",
    "The first line of input contains two integers, n and k. The next line contains n  integers: y1,y2, ...,yn (0≤ yi≤ 5), where yi shows the number of times the i-thperson  participated in the ACM ICPC Regional. \n",
    "\n",
    "Write a python program that prints how many teams can be formed according to  the above problem statement.\n",
    "\n",
    "Sample Input 1 \n",
    "\n",
    "5 2 \n",
    "\n",
    "0 4 5 1 0 \n",
    "\n",
    "Sample Input 2\n",
    "\n",
    "6 4 \n",
    "\n",
    "0 1 2 3 4 5 \n",
    "\n",
    "Sample Input 3 \n",
    "\n",
    "6 5 \n",
    "\n",
    "0 0 0 0 0 0 \n",
    "\n",
    "Sample Output 1 \n",
    "\n",
    "1 \n",
    "\n",
    "Sample Output 2\n",
    "\n",
    "0\n",
    "\n",
    "Sample Output 3\n",
    "\n",
    "2 \n",
    "\n",
    "\n",
    "\n"
   ]
  },
  {
   "cell_type": "code",
   "execution_count": 25,
   "metadata": {
    "colab": {
     "base_uri": "https://localhost:8080/"
    },
    "id": "-6nFpOE6b6Ef",
    "outputId": "a1923f81-60c2-4ced-8758-2f78a176dda2"
   },
   "outputs": [
    {
     "name": "stdout",
     "output_type": "stream",
     "text": [
      "enter the student number and the chances they have to participate : 6 5\n",
      "enter the number of contests that the students took part : 0 0 0 0 0 0 \n",
      "2\n"
     ]
    }
   ],
   "source": [
    "# task 6 \n",
    "info = input('enter the student number and the chances they have to participate : ').split()\n",
    "student_num = info[0]\n",
    "participated = info[1]\n",
    "student_info = input('enter the number of contests that the students took part : ').split()\n",
    "accepted = 0\n",
    "for i in student_info :\n",
    "  i = int(i)\n",
    "  chances =  i - int(participated)\n",
    "  if chances <= int(participated)  :\n",
    "    accepted += 1 \n",
    "    if accepted %3 == 0 :\n",
    "      ans = accepted//3 \n",
    "print (ans)"
   ]
  },
  {
   "cell_type": "markdown",
   "metadata": {
    "id": "UkYq3AHib9GU"
   },
   "source": [
    "\n",
    "DICTIONARY & TUPLES\n",
    "---\n",
    "\n",
    "\n",
    "1. Write a Python program to combine two dictionaries into one by adding values for  common keys. Input contains two comma separated dictionaries. Print the new  dictionary and create a tuple which contains unique values in sorted order. \n",
    "\n",
    "Sample Input \n",
    "\n",
    "a: 100, b: 100, c: 200, d: 300 \n",
    "\n",
    "a: 300, b: 200, d: 400, e: 200 \n",
    "\n",
    "Sample Output \n",
    "\n",
    "{'a': 400, 'b': 300, 'c': 200,'d': 700, 'e': 200} \n",
    "\n",
    "Values: (200, 300, 400, 700) "
   ]
  },
  {
   "cell_type": "code",
   "execution_count": 13,
   "metadata": {
    "colab": {
     "base_uri": "https://localhost:8080/"
    },
    "id": "N4kLmigMaxHy",
    "outputId": "1298f4d4-0697-4d62-a258-1f3331615830"
   },
   "outputs": [
    {
     "name": "stdout",
     "output_type": "stream",
     "text": [
      "enter 1st dictionary : a:100,a:100,b:20\n",
      "enter 2nd dictionary : c:0\n",
      "{'a': 100, 'b': 20}\n",
      "{'a': 100, 'b': 20, 'c': 0}\n",
      "Values: (0, 20, 100)\n"
     ]
    }
   ],
   "source": [
    "# DICTIONARY AND TUPLES \n",
    "# dict1 = {'a':100,'b':100, 'c':200, 'd': 300}\n",
    "# dict2 = {'a':300, 'b':200, 'd':400, 'e':200}\n",
    "dict1 = {}\n",
    "dict2 = {}\n",
    "inp1 = input('enter 1st dictionary : ')\n",
    "inp2 = input ('enter 2nd dictionary : ')\n",
    "list1 = inp1.split(',')\n",
    "list2 = inp2.split(',')\n",
    "dict1 = {}\n",
    "dict2 = {}\n",
    "for item1 in list1 :\n",
    "  lis = item1.split(':')\n",
    "  key1 = lis[0]\n",
    "  value1 = lis[1]\n",
    "  dict1[key1] = int(value1)\n",
    "for item2 in list2 :\n",
    "  key2,value2 = item2.split(':')\n",
    "  dict2[key2] = int(value2)\n",
    "\n",
    "dict3 = {}\n",
    "value_list = []\n",
    "for key in dict1.keys() :\n",
    "  if key in dict2 and key not in dict3:\n",
    "    dict3[key] = dict1[key] + dict2[key]\n",
    "  else :\n",
    "    dict3[key] = dict1[key]\n",
    "for key in dict2.keys() :\n",
    "  if key not in dict3 :\n",
    "    dict3[key] = dict2[key]\n",
    "for value in dict3.values() :\n",
    "  if value not in value_list :\n",
    "    value_list.append(value)\n",
    "for item1 in range(len(value_list)) :\n",
    "  minim = value_list[item1]\n",
    "  minim_index = item1\n",
    "  for item2 in range(item1 + 1 , len(value_list)) :\n",
    "    if value_list[item2] < minim :\n",
    "      minim = value_list[item2] \n",
    "      minim_index = item2\n",
    "  temp = value_list[minim_index]\n",
    "  value_list[minim_index] = value_list[item1]\n",
    "  value_list[item1] = temp\n",
    "print(dict3)\n",
    "print('Values:',tuple(value_list))\n",
    "\n",
    "      \n",
    "    \n"
   ]
  },
  {
   "cell_type": "markdown",
   "metadata": {
    "id": "tg1ddaJrjesS"
   },
   "source": [
    "2. Write a python program which prints the frequency of the numbers that were  given as input by the user. Stop taking input when you find the string “STOP”. Do  not print the frequency of numbers that were not given as input. Use a dictionary  to solve the problem\n",
    "\n",
    "Sample Input\n",
    " \n",
    "10 \n",
    "\n",
    "20 \n",
    "\n",
    "20 \n",
    "\n",
    "30\n",
    "\n",
    "10 \n",
    "\n",
    "50 \n",
    "\n",
    "90 \n",
    "\n",
    "STOP \n",
    "\n",
    "Sample Output \n",
    "\n",
    "10 - 2 times\n",
    "\n",
    "20 - 2 times\n",
    "\n",
    "30 - 1 times\n",
    "\n",
    "50 - 1 times\n",
    "\n",
    "90 - 1 times \n"
   ]
  },
  {
   "cell_type": "code",
   "execution_count": null,
   "metadata": {
    "colab": {
     "base_uri": "https://localhost:8080/"
    },
    "id": "qgK4eIxmjrpW",
    "outputId": "8ed6d0bf-4e83-4cfc-9cf7-4507107aae93"
   },
   "outputs": [
    {
     "name": "stdout",
     "output_type": "stream",
     "text": [
      "enter numbers: 10\n",
      "enter numbers: 20\n",
      "enter numbers: 20\n",
      "enter numbers: 30\n",
      "enter numbers: 10\n",
      "enter numbers: 50\n",
      "enter numbers: 90\n",
      "enter numbers: STOP\n",
      "10 - 2 times\n",
      "20 - 2 times\n",
      "30 - 1 times\n",
      "50 - 1 times\n",
      "90 - 1 times\n"
     ]
    }
   ],
   "source": [
    "# task 2\n",
    "dict1 = {}\n",
    "for i in range(0,1000000) :\n",
    "  numbers = input('enter numbers: ')\n",
    "  if numbers == 'STOP' :\n",
    "    break \n",
    "  else :\n",
    "    key = int(numbers)\n",
    "    if key not in dict1 :\n",
    "      dict1[key] = 1 \n",
    "    else :\n",
    "      dict1[key] += 1 \n",
    "for key1,value1 in dict1.items() :\n",
    "   print (str(key1) + ' - ' + str(value1) + ' times')\n",
    "    \n"
   ]
  },
  {
   "cell_type": "markdown",
   "metadata": {
    "id": "BD-wtt5_pUif"
   },
   "source": [
    "3. Write python code to invert a dictionary. It should print a dictionary where the keys  are values from the input dictionary and the values are lists of keys from the input  dictionary having the same value. Make sure the program handles multiple same  values. \n",
    "\n",
    "Sample Input \n",
    "\n",
    "key1 : value1, key2 : value2, key3 : value1 \n",
    "\n",
    "Sample Output \n",
    "\n",
    "{ \"value1\" : [\"key1\", \"key3\"], \"value2\" : [\"key2\"] } \n"
   ]
  },
  {
   "cell_type": "code",
   "execution_count": null,
   "metadata": {
    "colab": {
     "base_uri": "https://localhost:8080/"
    },
    "id": "aJO-SD9Fpj1_",
    "outputId": "6e39fb83-f372-48cd-9f78-030f73fc1f22"
   },
   "outputs": [
    {
     "name": "stdout",
     "output_type": "stream",
     "text": [
      "enter the number of key and value in a dict1 : 3\n",
      "enter the key in the dictionary : key1\n",
      "enter the value for the key in the dictionary : value1\n",
      "enter the key in the dictionary : key2\n",
      "enter the value for the key in the dictionary : value2\n",
      "enter the key in the dictionary : key3\n",
      "enter the value for the key in the dictionary : value1\n",
      "{'value1': ['key1', 'key3'], 'value2': ['key2']}\n"
     ]
    }
   ],
   "source": [
    "# task 3 \n",
    "# dict1 = {'key1':'value1','key2':'value2','key3':'value1'}\n",
    "num = int(input('enter the number of key and value in a dict1 : '))\n",
    "dict1 = {}\n",
    "dict2 = {}\n",
    "for item in range(0,num) :\n",
    "  key = input('enter the key in the dictionary : ')\n",
    "  value = input('enter the value for the key in the dictionary : ')\n",
    "  dict1[key] = value \n",
    "for key,value in dict1.items() :\n",
    "  if value not in dict2 :\n",
    "    dict2[value] = [key]\n",
    "  else :\n",
    "    dict2[value].append(key)\n",
    "print (dict2)\n"
   ]
  },
  {
   "cell_type": "markdown",
   "metadata": {
    "id": "LKBXlLqfv0DM"
   },
   "source": [
    "4. Two words are anagrams if they contain all of the same letters, but in a different  order. For example, “evil” and “live” are anagrams because each contains one “e”,  one “i”, one “l”, and one “v”. \n",
    "Write a program that reads two strings from the user and determines whether or not they  are anagrams. Use a dictionary to solve the problem.\n",
    "\n",
    "Sample Input \n",
    "\n",
    "evil  \n",
    "\n",
    "live \n",
    "\n",
    "Sample Output \n",
    "\n",
    "Those strings are anagrams. \n"
   ]
  },
  {
   "cell_type": "code",
   "execution_count": null,
   "metadata": {
    "colab": {
     "base_uri": "https://localhost:8080/"
    },
    "id": "Zq_zJC1Tv0xF",
    "outputId": "a185aec6-e84e-4cfb-e611-ecd775732559"
   },
   "outputs": [
    {
     "name": "stdout",
     "output_type": "stream",
     "text": [
      "enter a word : evil\n",
      "enter another word : live\n",
      "Those strings are anagrams\n"
     ]
    }
   ],
   "source": [
    "# task 4\n",
    "word1 = input('enter a word : ')\n",
    "word2 = input('enter another word : ')\n",
    "# word1 = 'evil'\n",
    "# word2 = 'live'\n",
    "dict1 = {}\n",
    "dict2 = {}\n",
    "for char1 in word1 :\n",
    "  if char1 not in dict1 :\n",
    "    dict1[char1] = 1 \n",
    "  else :\n",
    "    dict1[char1] += 1 \n",
    "for char2 in word2 :\n",
    "  if char2 not in dict2 :\n",
    "    dict2[char2] = 1\n",
    "  else :\n",
    "    dict2[char2] += 1\n",
    "if dict1 == dict2 :\n",
    "  print('Those strings are anagrams')\n",
    "else :\n",
    "  print('Those strings are not anagrams')"
   ]
  },
  {
   "cell_type": "markdown",
   "metadata": {
    "id": "f2CimQ_BO5od"
   },
   "source": [
    "5. On some basic cell phones, text messages can be sent using the numeric keypad.  Because each key has multiple letters associated with it, multiple key presses are  needed for most letters. Pressing the number once generates the first character listed  for that key. Pressing the number 2, 3, 4 or 5 times generates the second, third, fourth  or fifth character. \n",
    "\n",
    "Key \n",
    "\n",
    "Symbols\n",
    "\n",
    "1 \n",
    ".,?!:\n",
    "\n",
    "2 \n",
    "ABC\n",
    "\n",
    "3 \n",
    "DEF\n",
    "\n",
    "4 \n",
    "GHI\n",
    "\n",
    "5 \n",
    "JKL\n",
    "\n",
    "6 \n",
    "MNO\n",
    "\n",
    "7 \n",
    "PQRS\n",
    "\n",
    "8 \n",
    "TUV\n",
    "\n",
    "9 \n",
    "WXYZ\n",
    "\n",
    "0 \n",
    "Space\n",
    "\n",
    "\n",
    "Write a program that displays the key presses needed for a message entered by the user.  Construct a dictionary that maps from each letter or symbol to the key presses needed to  generate it. Then use the dictionary to create and display the presses needed for the user’s  message.\n",
    "\n",
    "\n",
    "Sample Input \n",
    "\n",
    "Hello, World!\n",
    "\n",
    "Sample Output \n",
    "\n",
    "4433555555666110966677755531111 \n"
   ]
  },
  {
   "cell_type": "code",
   "execution_count": null,
   "metadata": {
    "colab": {
     "base_uri": "https://localhost:8080/"
    },
    "id": "_ptpcZ73O6-6",
    "outputId": "8675d6e5-9c3f-4d91-812a-b1bb09ffe848"
   },
   "outputs": [
    {
     "name": "stdout",
     "output_type": "stream",
     "text": [
      "enter : Hello, World!\n",
      "4433555555666110966677755531111\n"
     ]
    }
   ],
   "source": [
    "# task 5 \n",
    "text_dict = {1:['.',',','?','!',':'] , \n",
    "             2:['A','B','C'] , \n",
    "             3:['D','E','F'] , \n",
    "             4:['G','H','I'] , \n",
    "             5:['J','K','L'] , \n",
    "             6:['M','N','O'] , \n",
    "             7:['P','Q','R','S'] , \n",
    "             8:['T','U','V'] , \n",
    "             9:['W','X','Y','Z'] , \n",
    "             0 :[' ']}\n",
    "ans = ''\n",
    "user_input = input('enter : ')\n",
    "# user_input = 'HELLO, WORLD!'\n",
    "user_input = user_input.upper()\n",
    "for char in range(len(user_input)) :\n",
    "  for key,value in text_dict.items() :\n",
    "    for val in range(len(value)) :\n",
    "      if user_input[char] in value[val] :\n",
    "        ans += str(key) * (val+1)\n",
    "print(ans)\n",
    "      \n",
    "      \n",
    "      "
   ]
  },
  {
   "cell_type": "code",
   "execution_count": 23,
   "metadata": {},
   "outputs": [
    {
     "name": "stdout",
     "output_type": "stream",
     "text": [
      "=================================\n",
      "Doctor's ID: 1d\n",
      "Name: Samar Kumar\n",
      "Speciality: Neurologist\n",
      "=================================\n",
      "=================================\n",
      "Patient's ID: 1p\n",
      "Name: Kashem Ahmed\n",
      "Age: 35\n",
      "Phone no.: 12345\n",
      "=================================\n",
      "=================================\n",
      "Patient's ID: 2p\n",
      "Name: Tanina Haque\n",
      "Age: 26\n",
      "Phone no.: 33456\n",
      "=================================\n",
      "All Doctors:\n",
      "Number of Doctors: 1\n",
      "{'1d': ['Samar Kumar', 'Neurologist']}\n",
      "All Patients:\n",
      "Number of patients: 2\n",
      "{'2p': ['Tanina Haque', 26, 33456]}\n"
     ]
    }
   ],
   "source": [
    "class Hospital:\n",
    "    \n",
    "    def __init__(self,hname):\n",
    "        self.hname = hname\n",
    "        self.patient_dict = {}\n",
    "    num_of_doc = 0\n",
    "    def addDoctor(self,doctor):\n",
    "        self.num_of_doc += 1\n",
    "        self.docID = doctor.ID\n",
    "        self.dname = doctor.dname\n",
    "        self.spec = doctor.spec\n",
    "        self.doc = doctor.doc\n",
    "    def getDoctorByID(self,ID):\n",
    "        return \"Doctor's ID: {}\\nName: {}\\nSpeciality: {}\".format(self.docID,self.dname,self.spec)\n",
    "    num_of_patient = 0\n",
    "    def addPatient(self,patient):\n",
    "        self.num_of_patient += 1\n",
    "        self.patientID = patient.patientID\n",
    "        self.patient = patient.patient\n",
    "        self.patientname = patient.patientname\n",
    "        self.patientAge = patient.patientAge\n",
    "        self.patientNum = patient.patientNum\n",
    "        \n",
    "    def getPatientByID(self,ID):\n",
    "        return \"Patient's ID: {}\\nName: {}\\nAge: {}\\nPhone no.: {}\".format(self.patientID,self.patientname,self.patientAge,self.patientNum)\n",
    "    \n",
    "    def allDoctors(self):\n",
    "        print(\"All Doctors:\")\n",
    "        print(\"Number of Doctors:\",self.num_of_doc)\n",
    "        doc_list = []\n",
    "        doc_dict = {}\n",
    "        if self.docID not in doc_dict :\n",
    "            doc_dict[self.docID] = doc_list \n",
    "            if self.dname or self.spec not in doc_list :\n",
    "                doc_list.append(self.dname)\n",
    "                doc_list.append(self.spec)\n",
    "#         doc_dict[self.docID].append(self.dname)\n",
    "#         doc_dict[self.docID].append(self.spec)\n",
    "        print(doc_dict)\n",
    "    \n",
    "    def allPatients(self):\n",
    "        print(\"All Patients:\")\n",
    "        print(\"Number of patients:\",self.num_of_patient)\n",
    "#         key = self.patientID\n",
    "        #patient_dict[key] = []\n",
    "#         patient_dict[key] += [self.patientname,self.patientAge,self.patientNum]\n",
    "        p_list = []\n",
    "        p_dict = {}\n",
    "        if self.patientID not in p_dict :\n",
    "            p_dict[self.patientID] = p_list \n",
    "            if self.patientname or self.patientAge or self.patientNum not in p_list :\n",
    "                p_list.append(self.patientname)\n",
    "                p_list.append(self.patientAge)\n",
    "                p_list.append(self.patientNum)\n",
    "        print(p_dict)\n",
    "        \n",
    "        #if key not in patient_dict.keys():\n",
    "            \n",
    "            #patient_dict[key].append(self.patientname)\n",
    "            #patient_dict[key].append(self.patientAge)\n",
    "            #patient_dict[key].append(self.patientNum)\n",
    "        #else:\n",
    "            #patient_dict[key].append(self.patientname)\n",
    "            #patient_dict[key].append(self.patientAge)\n",
    "            #patient_dict[key].append(self.patientNum)\n",
    "#         print(patient_dict)\n",
    "class Doctor:\n",
    "    \n",
    "    def __init__(self,ID,doc,dname,spec):\n",
    "        self.ID = ID\n",
    "        self.doc = doc\n",
    "        self.dname = dname\n",
    "        self.spec = spec\n",
    "\n",
    "class Patient:\n",
    "    \n",
    "    def __init__(self,patientID,patient,patientname,patientAge,patientNum):\n",
    "        self.patientID = patientID\n",
    "        self.patient = patient\n",
    "        self.patientname = patientname\n",
    "        self.patientAge = patientAge\n",
    "        self.patientNum = patientNum\n",
    "        \n",
    "h = Hospital(\"Evercare\")\n",
    "d1 = Doctor(\"1d\",\"Doctor\", \"Samar Kumar\", \"Neurologist\")\n",
    "h.addDoctor(d1)\n",
    "print(\"=================================\")\n",
    "print(h.getDoctorByID(\"1d\"))\n",
    "print(\"=================================\")\n",
    "p1 = Patient(\"1p\",\"Patient\", \"Kashem Ahmed\", 35, 12345)\n",
    "h.addPatient(p1)\n",
    "print(\"=================================\")\n",
    "print(h.getPatientByID(\"1p\"))\n",
    "print(\"=================================\")\n",
    "p2 = Patient (\"2p\",\"Patient\", \"Tanina Haque\", 26, 33456)\n",
    "h.addPatient(p2)\n",
    "print(\"=================================\")\n",
    "print(h.getPatientByID(\"2p\"))\n",
    "print(\"=================================\")\n",
    "h.allDoctors()\n",
    "h.allPatients()"
   ]
  },
  {
   "cell_type": "code",
   "execution_count": null,
   "metadata": {},
   "outputs": [],
   "source": []
  }
 ],
 "metadata": {
  "colab": {
   "name": "21101298_ANIKA ISAM_15_CSE111 (Assignment 1) ",
   "provenance": []
  },
  "kernelspec": {
   "display_name": "Python 3",
   "language": "python",
   "name": "python3"
  },
  "language_info": {
   "codemirror_mode": {
    "name": "ipython",
    "version": 3
   },
   "file_extension": ".py",
   "mimetype": "text/x-python",
   "name": "python",
   "nbconvert_exporter": "python",
   "pygments_lexer": "ipython3",
   "version": "3.8.8"
  }
 },
 "nbformat": 4,
 "nbformat_minor": 1
}
